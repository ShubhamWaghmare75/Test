{
  "nbformat": 4,
  "nbformat_minor": 0,
  "metadata": {
    "colab": {
      "name": "Demo.ipynb",
      "provenance": [],
      "collapsed_sections": []
    },
    "kernelspec": {
      "name": "python3",
      "display_name": "Python 3"
    },
    "language_info": {
      "name": "python"
    }
  },
  "cells": [
    {
      "cell_type": "markdown",
      "source": [
        "**1. Give examples of boolean, integer, float and string data types and explain them breifly (2M)**."
      ],
      "metadata": {
        "id": "KhnCfCZaKHvz"
      }
    },
    {
      "cell_type": "markdown",
      "source": [
        "**Integer** - It is a numeric values which does not contain Decimals. E.g. 2+2 Ans. 4 (0, -1, +5)\n",
        "\n",
        "**Float** - It is also a numeric vlues which contains Decimal valuse. E.g. 5/4 Ans. 1.25\n",
        "\n",
        "**String** - It contains set of characters. E.g. ABCD, My Name....\n",
        "\n",
        "**Boolean** - It has two possible values i.e. True/False. It show if the given statement is True or False. \n",
        "E.g 1\n",
        "    3\n",
        "    1<3\n",
        "    the statement is correct hence it results True\n"
      ],
      "metadata": {
        "id": "vlGyaOSncYv_"
      }
    },
    {
      "cell_type": "markdown",
      "source": [
        "**2. Match the data structures given in column A with the types of brackets associated with them and their properties (1.5 Marks)**\n"
      ],
      "metadata": {
        "id": "D_N8QeOYHuFS"
      }
    },
    {
      "cell_type": "markdown",
      "source": [
        "| Data structues | Types of brackets |  Properties |\n",
        "| --- | --- | --- |\n",
        "| (a) List | 1. { } |  (X) Immutable and ordered |\n",
        "| (b) Tuple |2. [ ] |  (Y) Mutable and ordered   |\n",
        "| (c) Dictionary |3. ( ) | (Z)  key – value pairs |\n",
        "|"
      ],
      "metadata": {
        "id": "NoZdCboE_vn6"
      }
    },
    {
      "cell_type": "markdown",
      "source": [
        "List - [ ] - Ordered and Changable\n",
        "Tuble - ( ) - Ordered and Unchangable\n",
        "Dictionary - { } - Key-value pairs"
      ],
      "metadata": {
        "id": "hQcjeAmlcbJE"
      }
    },
    {
      "cell_type": "markdown",
      "source": [
        "**3 Match Column A statements with their respective output in the below options (2.5 Marks)**\n",
        "\n",
        "| Column A | Output \n",
        "| --- | --- \n",
        "| (a) 50 % 2 | (1) 25.5\n",
        "| (b) 51 / 2 | (2) 1\n",
        "| (c) 51 // 2 | (3) 0\n",
        "| (d) bool(51 % 2) |(4) 25\n",
        "| (e)((555//5) % 5) ** 3 | (5)True\n",
        "\n",
        "\n"
      ],
      "metadata": {
        "id": "WjZxhgpxLWn4"
      }
    },
    {
      "cell_type": "markdown",
      "source": [
        "*   50%2 - 0\n",
        "*   51/2 - 25.2\n",
        "*   51//2 - 25\n",
        "*   bool(51%2) - True\n",
        "*   ((555//5)%5)**3 - 1\n"
      ],
      "metadata": {
        "id": "jj8lmEoKcc4c"
      }
    },
    {
      "cell_type": "markdown",
      "source": [
        "**4. Write a program to convert temperature from Fahrenheit to Celsius degree.(1.5 Marks)**"
      ],
      "metadata": {
        "id": "yndIP3JuWGwc"
      }
    },
    {
      "cell_type": "code",
      "source": [
        "Fahrenheit = 642                                      ## Assigned Variable to enter Fahrenheit value\n",
        "Celsius = ((Fahrenheit-32)*5)/9                      ## added the formulae to convert Fahrenheit to Celsius\n",
        "print(\"Temperature in Celsius is\", Celsius)          ## print function to with str statement + Celsius"
      ],
      "metadata": {
        "colab": {
          "base_uri": "https://localhost:8080/"
        },
        "id": "2fSdFNdEqN2T",
        "outputId": "e4c35ee5-1133-491b-fd01-fa1132f3b3b2"
      },
      "execution_count": null,
      "outputs": [
        {
          "output_type": "stream",
          "name": "stdout",
          "text": [
            "Temperature in Celsius is 338.8888888888889\n"
          ]
        }
      ]
    },
    {
      "cell_type": "code",
      "source": [
        "Fah = float(input(\"Enter Temperatire in Fahrenheit: \"))    ## assined variable to input function also float is used     \n",
        "Cels = ((Fah-32)*5)/9                                   ## assigned variable to convert fahrenheit - celsius formula\n",
        "print(\"Temperature in Celsius is\", Cels)                ## print function to get result with str notes"
      ],
      "metadata": {
        "colab": {
          "base_uri": "https://localhost:8080/"
        },
        "id": "eP6gbG59tA7N",
        "outputId": "51c8a9d9-a222-49a9-8b89-a2ed977bc1cd"
      },
      "execution_count": null,
      "outputs": [
        {
          "output_type": "stream",
          "name": "stdout",
          "text": [
            "Enter Temperatire in Fahrenheit: 642\n",
            "Temperature in Celsius is 338.8888888888889\n"
          ]
        }
      ]
    },
    {
      "cell_type": "markdown",
      "source": [
        "**5. Given below is a code. Briefly comment on each code line using '#' symbol and  predict what the program is intended for (1.5 Marks)**."
      ],
      "metadata": {
        "id": "AB6gRUOHVUJ6"
      }
    },
    {
      "cell_type": "code",
      "source": [
        "num = int(input(\"Enter a number: \"))  ## It is input function to enter a numnber which will be in Integer only as int is passed\n",
        "if (num % 2) == 0:                    ## if command. Entered int number divided by 2 if its remainder is 0\n",
        "   print(f\"{num} is Even\")            ## print function will work if the remainder is Zero (Entered number is Even)\n",
        "else:                                 ## else command. if the above statement is not satisfied which means remainder is not zero\n",
        "   print(f\"{num} is Odd\")             ## it will print Entered number is odd"
      ],
      "metadata": {
        "id": "J9S5kgt0Xs63",
        "colab": {
          "base_uri": "https://localhost:8080/"
        },
        "outputId": "74c2a2ea-9329-4caf-c45c-465b4d140464"
      },
      "execution_count": 3,
      "outputs": [
        {
          "output_type": "stream",
          "name": "stdout",
          "text": [
            "Enter a number: 3\n",
            "3 is Odd\n"
          ]
        }
      ]
    },
    {
      "cell_type": "code",
      "source": [],
      "metadata": {
        "id": "TmvZ7iOCwKJ8"
      },
      "execution_count": null,
      "outputs": []
    },
    {
      "cell_type": "markdown",
      "source": [
        "It is a if else command to find if the entered number is Even or Odd"
      ],
      "metadata": {
        "id": "z7iNGOgAcfmU"
      }
    },
    {
      "cell_type": "markdown",
      "source": [
        "**6. A list of grades of students is given below. Find the unique grades in them. (1 Mark)**\n",
        "\n",
        "Grades = ['A', 'A', 'B', 'C', 'D', 'B', 'B', 'C', 'D', 'E', 'C', 'C', 'A', 'NA', 'B', 'F', 'D', 'C', 'B', 'C', 'A', 'B', 'E','NA', 'C']"
      ],
      "metadata": {
        "id": "aQQ1_55-YT1A"
      }
    },
    {
      "cell_type": "code",
      "source": [
        "Grades = ['A', 'A', 'B', 'C', 'D', 'B', 'B', 'C', 'D', 'E', 'C', 'C', 'A', 'NA', 'B', 'F', 'D', 'C', 'B', 'C', 'A', 'B', 'E','NA', 'C']\n",
        "Unique_Grades = set(Grades) ## I have converted the table into Set\n",
        "Unique_Grades               ## Call the Set Collection"
      ],
      "metadata": {
        "id": "k3X_K-15cyF8",
        "colab": {
          "base_uri": "https://localhost:8080/"
        },
        "outputId": "106f92b4-e184-4eb3-9a2e-c06590227b51"
      },
      "execution_count": 1,
      "outputs": [
        {
          "output_type": "execute_result",
          "data": {
            "text/plain": [
              "{'A', 'B', 'C', 'D', 'E', 'F', 'NA'}"
            ]
          },
          "metadata": {},
          "execution_count": 1
        }
      ]
    }
  ]
}